{
 "cells": [
  {
   "cell_type": "markdown",
   "metadata": {},
   "source": [
    "# 0. Importing the Necessary Libraries"
   ]
  },
  {
   "cell_type": "code",
   "execution_count": 1,
   "metadata": {},
   "outputs": [],
   "source": [
    "import matplotlib.pyplot as plt\n",
    "import pandas as pd\n",
    "import seaborn as sns\n",
    "import numpy as np\n",
    "import ast"
   ]
  },
  {
   "cell_type": "markdown",
   "metadata": {},
   "source": [
    "# 1. Downloading the Datasets"
   ]
  },
  {
   "cell_type": "code",
   "execution_count": 2,
   "metadata": {},
   "outputs": [],
   "source": [
    "product_catalog = pd.read_csv(\"original_data/product_catalog.csv\")\n",
    "product_category = pd.read_csv(\"original_data/product_category_map.csv\")\n",
    "transactions = pd.read_csv(\"original_data/transactions.csv\")\n",
    "test = pd.read_csv(\"original_data/test.csv\")"
   ]
  },
  {
   "cell_type": "markdown",
   "metadata": {},
   "source": [
    "## 1a. Analyzing & Preprocessing the Dataset\n",
    "\n",
    "Investigating the entities, dtypes, numeric information etc."
   ]
  },
  {
   "cell_type": "markdown",
   "metadata": {},
   "source": [
    "### <center> - Product Catalog DataFrame - </center>"
   ]
  },
  {
   "cell_type": "code",
   "execution_count": 3,
   "metadata": {},
   "outputs": [
    {
     "data": {
      "text/html": [
       "<div>\n",
       "<style scoped>\n",
       "    .dataframe tbody tr th:only-of-type {\n",
       "        vertical-align: middle;\n",
       "    }\n",
       "\n",
       "    .dataframe tbody tr th {\n",
       "        vertical-align: top;\n",
       "    }\n",
       "\n",
       "    .dataframe thead th {\n",
       "        text-align: right;\n",
       "    }\n",
       "</style>\n",
       "<table border=\"1\" class=\"dataframe\">\n",
       "  <thead>\n",
       "    <tr style=\"text-align: right;\">\n",
       "      <th></th>\n",
       "      <th>product_id</th>\n",
       "      <th>manufacturer_id</th>\n",
       "      <th>attribute_1</th>\n",
       "      <th>attribute_2</th>\n",
       "      <th>attribute_3</th>\n",
       "      <th>attribute_4</th>\n",
       "      <th>attribute_5</th>\n",
       "      <th>categories</th>\n",
       "    </tr>\n",
       "  </thead>\n",
       "  <tbody>\n",
       "    <tr>\n",
       "      <th>0</th>\n",
       "      <td>22665</td>\n",
       "      <td>861</td>\n",
       "      <td>4</td>\n",
       "      <td>0</td>\n",
       "      <td>490</td>\n",
       "      <td>2</td>\n",
       "      <td>66</td>\n",
       "      <td>[2890, 855, 3908, 3909]</td>\n",
       "    </tr>\n",
       "    <tr>\n",
       "      <th>1</th>\n",
       "      <td>28640</td>\n",
       "      <td>1366</td>\n",
       "      <td>10</td>\n",
       "      <td>1</td>\n",
       "      <td>537</td>\n",
       "      <td>0</td>\n",
       "      <td>101</td>\n",
       "      <td>NaN</td>\n",
       "    </tr>\n",
       "    <tr>\n",
       "      <th>2</th>\n",
       "      <td>13526</td>\n",
       "      <td>1090</td>\n",
       "      <td>10</td>\n",
       "      <td>0</td>\n",
       "      <td>511</td>\n",
       "      <td>0</td>\n",
       "      <td>0</td>\n",
       "      <td>[3270, 163, 284, 1694, 12, 3837, 2422, 3595, 3...</td>\n",
       "    </tr>\n",
       "    <tr>\n",
       "      <th>3</th>\n",
       "      <td>21399</td>\n",
       "      <td>1090</td>\n",
       "      <td>10</td>\n",
       "      <td>1</td>\n",
       "      <td>511</td>\n",
       "      <td>0</td>\n",
       "      <td>0</td>\n",
       "      <td>[3270]</td>\n",
       "    </tr>\n",
       "    <tr>\n",
       "      <th>4</th>\n",
       "      <td>8504</td>\n",
       "      <td>768</td>\n",
       "      <td>4</td>\n",
       "      <td>1</td>\n",
       "      <td>484</td>\n",
       "      <td>0</td>\n",
       "      <td>66</td>\n",
       "      <td>[2470]</td>\n",
       "    </tr>\n",
       "  </tbody>\n",
       "</table>\n",
       "</div>"
      ],
      "text/plain": [
       "   product_id  manufacturer_id  attribute_1  attribute_2  attribute_3  \\\n",
       "0       22665              861            4            0          490   \n",
       "1       28640             1366           10            1          537   \n",
       "2       13526             1090           10            0          511   \n",
       "3       21399             1090           10            1          511   \n",
       "4        8504              768            4            1          484   \n",
       "\n",
       "   attribute_4  attribute_5                                         categories  \n",
       "0            2           66                            [2890, 855, 3908, 3909]  \n",
       "1            0          101                                                NaN  \n",
       "2            0            0  [3270, 163, 284, 1694, 12, 3837, 2422, 3595, 3...  \n",
       "3            0            0                                             [3270]  \n",
       "4            0           66                                             [2470]  "
      ]
     },
     "execution_count": 3,
     "metadata": {},
     "output_type": "execute_result"
    }
   ],
   "source": [
    "product_catalog.head()"
   ]
  },
  {
   "cell_type": "code",
   "execution_count": 4,
   "metadata": {},
   "outputs": [
    {
     "data": {
      "text/html": [
       "<div>\n",
       "<style scoped>\n",
       "    .dataframe tbody tr th:only-of-type {\n",
       "        vertical-align: middle;\n",
       "    }\n",
       "\n",
       "    .dataframe tbody tr th {\n",
       "        vertical-align: top;\n",
       "    }\n",
       "\n",
       "    .dataframe thead th {\n",
       "        text-align: right;\n",
       "    }\n",
       "</style>\n",
       "<table border=\"1\" class=\"dataframe\">\n",
       "  <thead>\n",
       "    <tr style=\"text-align: right;\">\n",
       "      <th></th>\n",
       "      <th>product_id</th>\n",
       "      <th>manufacturer_id</th>\n",
       "      <th>attribute_1</th>\n",
       "      <th>attribute_2</th>\n",
       "      <th>attribute_3</th>\n",
       "      <th>attribute_4</th>\n",
       "      <th>attribute_5</th>\n",
       "    </tr>\n",
       "  </thead>\n",
       "  <tbody>\n",
       "    <tr>\n",
       "      <th>count</th>\n",
       "      <td>32776.000000</td>\n",
       "      <td>32776.000000</td>\n",
       "      <td>32776.000000</td>\n",
       "      <td>32776.000000</td>\n",
       "      <td>32776.000000</td>\n",
       "      <td>32776.000000</td>\n",
       "      <td>32776.000000</td>\n",
       "    </tr>\n",
       "    <tr>\n",
       "      <th>mean</th>\n",
       "      <td>16387.500000</td>\n",
       "      <td>702.776574</td>\n",
       "      <td>6.451062</td>\n",
       "      <td>0.817946</td>\n",
       "      <td>440.280388</td>\n",
       "      <td>0.804735</td>\n",
       "      <td>74.689285</td>\n",
       "    </tr>\n",
       "    <tr>\n",
       "      <th>std</th>\n",
       "      <td>9461.760548</td>\n",
       "      <td>432.774074</td>\n",
       "      <td>2.744884</td>\n",
       "      <td>0.778284</td>\n",
       "      <td>132.566994</td>\n",
       "      <td>1.354669</td>\n",
       "      <td>57.621143</td>\n",
       "    </tr>\n",
       "    <tr>\n",
       "      <th>min</th>\n",
       "      <td>0.000000</td>\n",
       "      <td>-1.000000</td>\n",
       "      <td>-1.000000</td>\n",
       "      <td>0.000000</td>\n",
       "      <td>-1.000000</td>\n",
       "      <td>-1.000000</td>\n",
       "      <td>-1.000000</td>\n",
       "    </tr>\n",
       "    <tr>\n",
       "      <th>25%</th>\n",
       "      <td>8193.750000</td>\n",
       "      <td>322.000000</td>\n",
       "      <td>4.000000</td>\n",
       "      <td>0.000000</td>\n",
       "      <td>453.000000</td>\n",
       "      <td>0.000000</td>\n",
       "      <td>17.000000</td>\n",
       "    </tr>\n",
       "    <tr>\n",
       "      <th>50%</th>\n",
       "      <td>16387.500000</td>\n",
       "      <td>648.000000</td>\n",
       "      <td>6.000000</td>\n",
       "      <td>1.000000</td>\n",
       "      <td>491.000000</td>\n",
       "      <td>0.000000</td>\n",
       "      <td>66.000000</td>\n",
       "    </tr>\n",
       "    <tr>\n",
       "      <th>75%</th>\n",
       "      <td>24581.250000</td>\n",
       "      <td>1073.000000</td>\n",
       "      <td>10.000000</td>\n",
       "      <td>1.000000</td>\n",
       "      <td>509.000000</td>\n",
       "      <td>3.000000</td>\n",
       "      <td>126.000000</td>\n",
       "    </tr>\n",
       "    <tr>\n",
       "      <th>max</th>\n",
       "      <td>32775.000000</td>\n",
       "      <td>1513.000000</td>\n",
       "      <td>10.000000</td>\n",
       "      <td>3.000000</td>\n",
       "      <td>538.000000</td>\n",
       "      <td>4.000000</td>\n",
       "      <td>190.000000</td>\n",
       "    </tr>\n",
       "  </tbody>\n",
       "</table>\n",
       "</div>"
      ],
      "text/plain": [
       "         product_id  manufacturer_id   attribute_1   attribute_2  \\\n",
       "count  32776.000000     32776.000000  32776.000000  32776.000000   \n",
       "mean   16387.500000       702.776574      6.451062      0.817946   \n",
       "std     9461.760548       432.774074      2.744884      0.778284   \n",
       "min        0.000000        -1.000000     -1.000000      0.000000   \n",
       "25%     8193.750000       322.000000      4.000000      0.000000   \n",
       "50%    16387.500000       648.000000      6.000000      1.000000   \n",
       "75%    24581.250000      1073.000000     10.000000      1.000000   \n",
       "max    32775.000000      1513.000000     10.000000      3.000000   \n",
       "\n",
       "        attribute_3   attribute_4   attribute_5  \n",
       "count  32776.000000  32776.000000  32776.000000  \n",
       "mean     440.280388      0.804735     74.689285  \n",
       "std      132.566994      1.354669     57.621143  \n",
       "min       -1.000000     -1.000000     -1.000000  \n",
       "25%      453.000000      0.000000     17.000000  \n",
       "50%      491.000000      0.000000     66.000000  \n",
       "75%      509.000000      3.000000    126.000000  \n",
       "max      538.000000      4.000000    190.000000  "
      ]
     },
     "execution_count": 4,
     "metadata": {},
     "output_type": "execute_result"
    }
   ],
   "source": [
    "product_catalog.describe()"
   ]
  },
  {
   "cell_type": "code",
   "execution_count": 5,
   "metadata": {},
   "outputs": [
    {
     "data": {
      "text/plain": [
       "product_id            0\n",
       "manufacturer_id       0\n",
       "attribute_1           0\n",
       "attribute_2           0\n",
       "attribute_3           0\n",
       "attribute_4           0\n",
       "attribute_5           0\n",
       "categories         6788\n",
       "dtype: int64"
      ]
     },
     "execution_count": 5,
     "metadata": {},
     "output_type": "execute_result"
    }
   ],
   "source": [
    "product_catalog.isna().sum()"
   ]
  },
  {
   "cell_type": "code",
   "execution_count": 6,
   "metadata": {},
   "outputs": [
    {
     "data": {
      "text/plain": [
       "(32776, 8)"
      ]
     },
     "execution_count": 6,
     "metadata": {},
     "output_type": "execute_result"
    }
   ],
   "source": [
    "product_catalog.shape"
   ]
  },
  {
   "cell_type": "code",
   "execution_count": 7,
   "metadata": {},
   "outputs": [
    {
     "data": {
      "text/plain": [
       "product_id          int64\n",
       "manufacturer_id     int64\n",
       "attribute_1         int64\n",
       "attribute_2         int64\n",
       "attribute_3         int64\n",
       "attribute_4         int64\n",
       "attribute_5         int64\n",
       "categories         object\n",
       "dtype: object"
      ]
     },
     "execution_count": 7,
     "metadata": {},
     "output_type": "execute_result"
    }
   ],
   "source": [
    "product_catalog.dtypes"
   ]
  },
  {
   "cell_type": "code",
   "execution_count": 8,
   "metadata": {},
   "outputs": [
    {
     "data": {
      "text/plain": [
       "12191"
      ]
     },
     "execution_count": 8,
     "metadata": {},
     "output_type": "execute_result"
    }
   ],
   "source": [
    "product_catalog[\"categories\"].nunique()"
   ]
  },
  {
   "cell_type": "code",
   "execution_count": 9,
   "metadata": {},
   "outputs": [],
   "source": [
    "product_catalog[\"categories\"] = product_catalog['categories'].apply(lambda x: ast.literal_eval(x) if isinstance(x, str) and x.strip() != '' else [])"
   ]
  },
  {
   "cell_type": "code",
   "execution_count": 10,
   "metadata": {},
   "outputs": [
    {
     "data": {
      "text/plain": [
       "3360"
      ]
     },
     "execution_count": 10,
     "metadata": {},
     "output_type": "execute_result"
    }
   ],
   "source": [
    "unique_categories = list()\n",
    "for row in product_catalog[\"categories\"]:\n",
    "    for entity in row:\n",
    "        if entity not in unique_categories:\n",
    "            unique_categories.append(entity)\n",
    "\n",
    "len(unique_categories)"
   ]
  },
  {
   "cell_type": "markdown",
   "metadata": {},
   "source": [
    "### <center> - Product Category - </center>"
   ]
  },
  {
   "cell_type": "code",
   "execution_count": 13,
   "metadata": {},
   "outputs": [
    {
     "data": {
      "text/html": [
       "<div>\n",
       "<style scoped>\n",
       "    .dataframe tbody tr th:only-of-type {\n",
       "        vertical-align: middle;\n",
       "    }\n",
       "\n",
       "    .dataframe tbody tr th {\n",
       "        vertical-align: top;\n",
       "    }\n",
       "\n",
       "    .dataframe thead th {\n",
       "        text-align: right;\n",
       "    }\n",
       "</style>\n",
       "<table border=\"1\" class=\"dataframe\">\n",
       "  <thead>\n",
       "    <tr style=\"text-align: right;\">\n",
       "      <th></th>\n",
       "      <th>category_id</th>\n",
       "      <th>parent_category_id</th>\n",
       "    </tr>\n",
       "  </thead>\n",
       "  <tbody>\n",
       "    <tr>\n",
       "      <th>0</th>\n",
       "      <td>0</td>\n",
       "      <td>75</td>\n",
       "    </tr>\n",
       "    <tr>\n",
       "      <th>1</th>\n",
       "      <td>1</td>\n",
       "      <td>1499</td>\n",
       "    </tr>\n",
       "    <tr>\n",
       "      <th>2</th>\n",
       "      <td>2</td>\n",
       "      <td>1082</td>\n",
       "    </tr>\n",
       "    <tr>\n",
       "      <th>3</th>\n",
       "      <td>3</td>\n",
       "      <td>3498</td>\n",
       "    </tr>\n",
       "    <tr>\n",
       "      <th>4</th>\n",
       "      <td>4</td>\n",
       "      <td>1623</td>\n",
       "    </tr>\n",
       "  </tbody>\n",
       "</table>\n",
       "</div>"
      ],
      "text/plain": [
       "   category_id  parent_category_id\n",
       "0            0                  75\n",
       "1            1                1499\n",
       "2            2                1082\n",
       "3            3                3498\n",
       "4            4                1623"
      ]
     },
     "execution_count": 13,
     "metadata": {},
     "output_type": "execute_result"
    }
   ],
   "source": [
    "product_category.head()"
   ]
  },
  {
   "cell_type": "code",
   "execution_count": 14,
   "metadata": {},
   "outputs": [
    {
     "data": {
      "text/html": [
       "<div>\n",
       "<style scoped>\n",
       "    .dataframe tbody tr th:only-of-type {\n",
       "        vertical-align: middle;\n",
       "    }\n",
       "\n",
       "    .dataframe tbody tr th {\n",
       "        vertical-align: top;\n",
       "    }\n",
       "\n",
       "    .dataframe thead th {\n",
       "        text-align: right;\n",
       "    }\n",
       "</style>\n",
       "<table border=\"1\" class=\"dataframe\">\n",
       "  <thead>\n",
       "    <tr style=\"text-align: right;\">\n",
       "      <th></th>\n",
       "      <th>category_id</th>\n",
       "      <th>parent_category_id</th>\n",
       "    </tr>\n",
       "  </thead>\n",
       "  <tbody>\n",
       "    <tr>\n",
       "      <th>count</th>\n",
       "      <td>4332.000000</td>\n",
       "      <td>4332.000000</td>\n",
       "    </tr>\n",
       "    <tr>\n",
       "      <th>mean</th>\n",
       "      <td>2147.165512</td>\n",
       "      <td>2204.845568</td>\n",
       "    </tr>\n",
       "    <tr>\n",
       "      <th>std</th>\n",
       "      <td>1241.039814</td>\n",
       "      <td>1222.376330</td>\n",
       "    </tr>\n",
       "    <tr>\n",
       "      <th>min</th>\n",
       "      <td>0.000000</td>\n",
       "      <td>8.000000</td>\n",
       "    </tr>\n",
       "    <tr>\n",
       "      <th>25%</th>\n",
       "      <td>1069.750000</td>\n",
       "      <td>1143.750000</td>\n",
       "    </tr>\n",
       "    <tr>\n",
       "      <th>50%</th>\n",
       "      <td>2146.500000</td>\n",
       "      <td>2284.000000</td>\n",
       "    </tr>\n",
       "    <tr>\n",
       "      <th>75%</th>\n",
       "      <td>3221.250000</td>\n",
       "      <td>3329.000000</td>\n",
       "    </tr>\n",
       "    <tr>\n",
       "      <th>max</th>\n",
       "      <td>4299.000000</td>\n",
       "      <td>3898.000000</td>\n",
       "    </tr>\n",
       "  </tbody>\n",
       "</table>\n",
       "</div>"
      ],
      "text/plain": [
       "       category_id  parent_category_id\n",
       "count  4332.000000         4332.000000\n",
       "mean   2147.165512         2204.845568\n",
       "std    1241.039814         1222.376330\n",
       "min       0.000000            8.000000\n",
       "25%    1069.750000         1143.750000\n",
       "50%    2146.500000         2284.000000\n",
       "75%    3221.250000         3329.000000\n",
       "max    4299.000000         3898.000000"
      ]
     },
     "execution_count": 14,
     "metadata": {},
     "output_type": "execute_result"
    }
   ],
   "source": [
    "product_category.describe()"
   ]
  },
  {
   "cell_type": "code",
   "execution_count": 15,
   "metadata": {},
   "outputs": [
    {
     "data": {
      "text/plain": [
       "category_id           0\n",
       "parent_category_id    0\n",
       "dtype: int64"
      ]
     },
     "execution_count": 15,
     "metadata": {},
     "output_type": "execute_result"
    }
   ],
   "source": [
    "product_category.isna().sum()"
   ]
  },
  {
   "cell_type": "code",
   "execution_count": 16,
   "metadata": {},
   "outputs": [
    {
     "data": {
      "text/plain": [
       "category_id           int64\n",
       "parent_category_id    int64\n",
       "dtype: object"
      ]
     },
     "execution_count": 16,
     "metadata": {},
     "output_type": "execute_result"
    }
   ],
   "source": [
    "product_category.dtypes"
   ]
  },
  {
   "cell_type": "code",
   "execution_count": 17,
   "metadata": {},
   "outputs": [
    {
     "data": {
      "text/html": [
       "<div>\n",
       "<style scoped>\n",
       "    .dataframe tbody tr th:only-of-type {\n",
       "        vertical-align: middle;\n",
       "    }\n",
       "\n",
       "    .dataframe tbody tr th {\n",
       "        vertical-align: top;\n",
       "    }\n",
       "\n",
       "    .dataframe thead th {\n",
       "        text-align: right;\n",
       "    }\n",
       "</style>\n",
       "<table border=\"1\" class=\"dataframe\">\n",
       "  <thead>\n",
       "    <tr style=\"text-align: right;\">\n",
       "      <th></th>\n",
       "      <th>product_id</th>\n",
       "      <th>manufacturer_id</th>\n",
       "      <th>attribute_1</th>\n",
       "      <th>attribute_2</th>\n",
       "      <th>attribute_3</th>\n",
       "      <th>attribute_4</th>\n",
       "      <th>attribute_5</th>\n",
       "      <th>categories</th>\n",
       "    </tr>\n",
       "  </thead>\n",
       "  <tbody>\n",
       "    <tr>\n",
       "      <th>0</th>\n",
       "      <td>22665</td>\n",
       "      <td>861</td>\n",
       "      <td>4</td>\n",
       "      <td>0</td>\n",
       "      <td>490</td>\n",
       "      <td>2</td>\n",
       "      <td>66</td>\n",
       "      <td>[2890, 855, 3908, 3909]</td>\n",
       "    </tr>\n",
       "    <tr>\n",
       "      <th>1</th>\n",
       "      <td>28640</td>\n",
       "      <td>1366</td>\n",
       "      <td>10</td>\n",
       "      <td>1</td>\n",
       "      <td>537</td>\n",
       "      <td>0</td>\n",
       "      <td>101</td>\n",
       "      <td>[]</td>\n",
       "    </tr>\n",
       "    <tr>\n",
       "      <th>2</th>\n",
       "      <td>13526</td>\n",
       "      <td>1090</td>\n",
       "      <td>10</td>\n",
       "      <td>0</td>\n",
       "      <td>511</td>\n",
       "      <td>0</td>\n",
       "      <td>0</td>\n",
       "      <td>[3270, 163, 284, 1694, 12, 3837, 2422, 3595, 3...</td>\n",
       "    </tr>\n",
       "    <tr>\n",
       "      <th>3</th>\n",
       "      <td>21399</td>\n",
       "      <td>1090</td>\n",
       "      <td>10</td>\n",
       "      <td>1</td>\n",
       "      <td>511</td>\n",
       "      <td>0</td>\n",
       "      <td>0</td>\n",
       "      <td>[3270]</td>\n",
       "    </tr>\n",
       "    <tr>\n",
       "      <th>4</th>\n",
       "      <td>8504</td>\n",
       "      <td>768</td>\n",
       "      <td>4</td>\n",
       "      <td>1</td>\n",
       "      <td>484</td>\n",
       "      <td>0</td>\n",
       "      <td>66</td>\n",
       "      <td>[2470]</td>\n",
       "    </tr>\n",
       "    <tr>\n",
       "      <th>...</th>\n",
       "      <td>...</td>\n",
       "      <td>...</td>\n",
       "      <td>...</td>\n",
       "      <td>...</td>\n",
       "      <td>...</td>\n",
       "      <td>...</td>\n",
       "      <td>...</td>\n",
       "      <td>...</td>\n",
       "    </tr>\n",
       "    <tr>\n",
       "      <th>32771</th>\n",
       "      <td>12036</td>\n",
       "      <td>1383</td>\n",
       "      <td>10</td>\n",
       "      <td>0</td>\n",
       "      <td>503</td>\n",
       "      <td>0</td>\n",
       "      <td>101</td>\n",
       "      <td>[3502, 1088, 2004, 691, 3422, 2308, 308, 3688,...</td>\n",
       "    </tr>\n",
       "    <tr>\n",
       "      <th>32772</th>\n",
       "      <td>22709</td>\n",
       "      <td>567</td>\n",
       "      <td>4</td>\n",
       "      <td>2</td>\n",
       "      <td>491</td>\n",
       "      <td>3</td>\n",
       "      <td>66</td>\n",
       "      <td>[3900, 3905, 3903, 3910, 1807, 274, 1467, 914]</td>\n",
       "    </tr>\n",
       "    <tr>\n",
       "      <th>32773</th>\n",
       "      <td>32322</td>\n",
       "      <td>1385</td>\n",
       "      <td>10</td>\n",
       "      <td>1</td>\n",
       "      <td>500</td>\n",
       "      <td>0</td>\n",
       "      <td>37</td>\n",
       "      <td>[2686, 2609, 725]</td>\n",
       "    </tr>\n",
       "    <tr>\n",
       "      <th>32774</th>\n",
       "      <td>19118</td>\n",
       "      <td>1113</td>\n",
       "      <td>6</td>\n",
       "      <td>2</td>\n",
       "      <td>491</td>\n",
       "      <td>0</td>\n",
       "      <td>117</td>\n",
       "      <td>[3900, 3910, 3903, 2473, 914, 274]</td>\n",
       "    </tr>\n",
       "    <tr>\n",
       "      <th>32775</th>\n",
       "      <td>16083</td>\n",
       "      <td>1111</td>\n",
       "      <td>4</td>\n",
       "      <td>3</td>\n",
       "      <td>485</td>\n",
       "      <td>3</td>\n",
       "      <td>16</td>\n",
       "      <td>[3900, 3901, 3905, 3902, 3903, 3910, 2473, 2470]</td>\n",
       "    </tr>\n",
       "  </tbody>\n",
       "</table>\n",
       "<p>32776 rows × 8 columns</p>\n",
       "</div>"
      ],
      "text/plain": [
       "       product_id  manufacturer_id  attribute_1  attribute_2  attribute_3  \\\n",
       "0           22665              861            4            0          490   \n",
       "1           28640             1366           10            1          537   \n",
       "2           13526             1090           10            0          511   \n",
       "3           21399             1090           10            1          511   \n",
       "4            8504              768            4            1          484   \n",
       "...           ...              ...          ...          ...          ...   \n",
       "32771       12036             1383           10            0          503   \n",
       "32772       22709              567            4            2          491   \n",
       "32773       32322             1385           10            1          500   \n",
       "32774       19118             1113            6            2          491   \n",
       "32775       16083             1111            4            3          485   \n",
       "\n",
       "       attribute_4  attribute_5  \\\n",
       "0                2           66   \n",
       "1                0          101   \n",
       "2                0            0   \n",
       "3                0            0   \n",
       "4                0           66   \n",
       "...            ...          ...   \n",
       "32771            0          101   \n",
       "32772            3           66   \n",
       "32773            0           37   \n",
       "32774            0          117   \n",
       "32775            3           16   \n",
       "\n",
       "                                              categories  \n",
       "0                                [2890, 855, 3908, 3909]  \n",
       "1                                                     []  \n",
       "2      [3270, 163, 284, 1694, 12, 3837, 2422, 3595, 3...  \n",
       "3                                                 [3270]  \n",
       "4                                                 [2470]  \n",
       "...                                                  ...  \n",
       "32771  [3502, 1088, 2004, 691, 3422, 2308, 308, 3688,...  \n",
       "32772     [3900, 3905, 3903, 3910, 1807, 274, 1467, 914]  \n",
       "32773                                  [2686, 2609, 725]  \n",
       "32774                 [3900, 3910, 3903, 2473, 914, 274]  \n",
       "32775   [3900, 3901, 3905, 3902, 3903, 3910, 2473, 2470]  \n",
       "\n",
       "[32776 rows x 8 columns]"
      ]
     },
     "execution_count": 17,
     "metadata": {},
     "output_type": "execute_result"
    }
   ],
   "source": [
    "product_catalog"
   ]
  },
  {
   "cell_type": "markdown",
   "metadata": {},
   "source": [
    "### <center> - Transactions - </center>"
   ]
  },
  {
   "cell_type": "code",
   "execution_count": 18,
   "metadata": {},
   "outputs": [
    {
     "data": {
      "text/html": [
       "<div>\n",
       "<style scoped>\n",
       "    .dataframe tbody tr th:only-of-type {\n",
       "        vertical-align: middle;\n",
       "    }\n",
       "\n",
       "    .dataframe tbody tr th {\n",
       "        vertical-align: top;\n",
       "    }\n",
       "\n",
       "    .dataframe thead th {\n",
       "        text-align: right;\n",
       "    }\n",
       "</style>\n",
       "<table border=\"1\" class=\"dataframe\">\n",
       "  <thead>\n",
       "    <tr style=\"text-align: right;\">\n",
       "      <th></th>\n",
       "      <th>customer_id</th>\n",
       "      <th>product_id</th>\n",
       "      <th>purchase_date</th>\n",
       "      <th>quantity</th>\n",
       "    </tr>\n",
       "  </thead>\n",
       "  <tbody>\n",
       "    <tr>\n",
       "      <th>0</th>\n",
       "      <td>38769</td>\n",
       "      <td>3477</td>\n",
       "      <td>2020-06-01</td>\n",
       "      <td>1</td>\n",
       "    </tr>\n",
       "    <tr>\n",
       "      <th>1</th>\n",
       "      <td>42535</td>\n",
       "      <td>30474</td>\n",
       "      <td>2020-06-01</td>\n",
       "      <td>1</td>\n",
       "    </tr>\n",
       "    <tr>\n",
       "      <th>2</th>\n",
       "      <td>42535</td>\n",
       "      <td>15833</td>\n",
       "      <td>2020-06-01</td>\n",
       "      <td>1</td>\n",
       "    </tr>\n",
       "    <tr>\n",
       "      <th>3</th>\n",
       "      <td>42535</td>\n",
       "      <td>20131</td>\n",
       "      <td>2020-06-01</td>\n",
       "      <td>1</td>\n",
       "    </tr>\n",
       "    <tr>\n",
       "      <th>4</th>\n",
       "      <td>42535</td>\n",
       "      <td>4325</td>\n",
       "      <td>2020-06-01</td>\n",
       "      <td>1</td>\n",
       "    </tr>\n",
       "  </tbody>\n",
       "</table>\n",
       "</div>"
      ],
      "text/plain": [
       "   customer_id  product_id purchase_date  quantity\n",
       "0        38769        3477    2020-06-01         1\n",
       "1        42535       30474    2020-06-01         1\n",
       "2        42535       15833    2020-06-01         1\n",
       "3        42535       20131    2020-06-01         1\n",
       "4        42535        4325    2020-06-01         1"
      ]
     },
     "execution_count": 18,
     "metadata": {},
     "output_type": "execute_result"
    }
   ],
   "source": [
    "transactions.head()"
   ]
  },
  {
   "cell_type": "code",
   "execution_count": 19,
   "metadata": {},
   "outputs": [],
   "source": [
    "transactions['purchase_date'] = pd.to_datetime(transactions['purchase_date'])"
   ]
  },
  {
   "cell_type": "code",
   "execution_count": 20,
   "metadata": {},
   "outputs": [
    {
     "data": {
      "text/html": [
       "<div>\n",
       "<style scoped>\n",
       "    .dataframe tbody tr th:only-of-type {\n",
       "        vertical-align: middle;\n",
       "    }\n",
       "\n",
       "    .dataframe tbody tr th {\n",
       "        vertical-align: top;\n",
       "    }\n",
       "\n",
       "    .dataframe thead th {\n",
       "        text-align: right;\n",
       "    }\n",
       "</style>\n",
       "<table border=\"1\" class=\"dataframe\">\n",
       "  <thead>\n",
       "    <tr style=\"text-align: right;\">\n",
       "      <th></th>\n",
       "      <th>customer_id</th>\n",
       "      <th>product_id</th>\n",
       "      <th>purchase_date</th>\n",
       "      <th>quantity</th>\n",
       "    </tr>\n",
       "  </thead>\n",
       "  <tbody>\n",
       "    <tr>\n",
       "      <th>0</th>\n",
       "      <td>38769</td>\n",
       "      <td>3477</td>\n",
       "      <td>2020-06-01</td>\n",
       "      <td>1</td>\n",
       "    </tr>\n",
       "    <tr>\n",
       "      <th>1</th>\n",
       "      <td>42535</td>\n",
       "      <td>30474</td>\n",
       "      <td>2020-06-01</td>\n",
       "      <td>1</td>\n",
       "    </tr>\n",
       "    <tr>\n",
       "      <th>2</th>\n",
       "      <td>42535</td>\n",
       "      <td>15833</td>\n",
       "      <td>2020-06-01</td>\n",
       "      <td>1</td>\n",
       "    </tr>\n",
       "    <tr>\n",
       "      <th>3</th>\n",
       "      <td>42535</td>\n",
       "      <td>20131</td>\n",
       "      <td>2020-06-01</td>\n",
       "      <td>1</td>\n",
       "    </tr>\n",
       "    <tr>\n",
       "      <th>4</th>\n",
       "      <td>42535</td>\n",
       "      <td>4325</td>\n",
       "      <td>2020-06-01</td>\n",
       "      <td>1</td>\n",
       "    </tr>\n",
       "  </tbody>\n",
       "</table>\n",
       "</div>"
      ],
      "text/plain": [
       "   customer_id  product_id purchase_date  quantity\n",
       "0        38769        3477    2020-06-01         1\n",
       "1        42535       30474    2020-06-01         1\n",
       "2        42535       15833    2020-06-01         1\n",
       "3        42535       20131    2020-06-01         1\n",
       "4        42535        4325    2020-06-01         1"
      ]
     },
     "execution_count": 20,
     "metadata": {},
     "output_type": "execute_result"
    }
   ],
   "source": [
    "transactions.head()"
   ]
  },
  {
   "cell_type": "code",
   "execution_count": 21,
   "metadata": {},
   "outputs": [
    {
     "data": {
      "text/html": [
       "<div>\n",
       "<style scoped>\n",
       "    .dataframe tbody tr th:only-of-type {\n",
       "        vertical-align: middle;\n",
       "    }\n",
       "\n",
       "    .dataframe tbody tr th {\n",
       "        vertical-align: top;\n",
       "    }\n",
       "\n",
       "    .dataframe thead th {\n",
       "        text-align: right;\n",
       "    }\n",
       "</style>\n",
       "<table border=\"1\" class=\"dataframe\">\n",
       "  <thead>\n",
       "    <tr style=\"text-align: right;\">\n",
       "      <th></th>\n",
       "      <th>customer_id</th>\n",
       "      <th>product_id</th>\n",
       "      <th>purchase_date</th>\n",
       "      <th>quantity</th>\n",
       "    </tr>\n",
       "  </thead>\n",
       "  <tbody>\n",
       "    <tr>\n",
       "      <th>count</th>\n",
       "      <td>1.071538e+06</td>\n",
       "      <td>1.071538e+06</td>\n",
       "      <td>1071538</td>\n",
       "      <td>1.071538e+06</td>\n",
       "    </tr>\n",
       "    <tr>\n",
       "      <th>mean</th>\n",
       "      <td>2.307968e+04</td>\n",
       "      <td>1.652196e+04</td>\n",
       "      <td>2020-10-05 06:54:07.242748672</td>\n",
       "      <td>1.399758e+00</td>\n",
       "    </tr>\n",
       "    <tr>\n",
       "      <th>min</th>\n",
       "      <td>0.000000e+00</td>\n",
       "      <td>0.000000e+00</td>\n",
       "      <td>2020-06-01 00:00:00</td>\n",
       "      <td>1.000000e+00</td>\n",
       "    </tr>\n",
       "    <tr>\n",
       "      <th>25%</th>\n",
       "      <td>1.152400e+04</td>\n",
       "      <td>8.350000e+03</td>\n",
       "      <td>2020-08-03 00:00:00</td>\n",
       "      <td>1.000000e+00</td>\n",
       "    </tr>\n",
       "    <tr>\n",
       "      <th>50%</th>\n",
       "      <td>2.310300e+04</td>\n",
       "      <td>1.696000e+04</td>\n",
       "      <td>2020-10-07 00:00:00</td>\n",
       "      <td>1.000000e+00</td>\n",
       "    </tr>\n",
       "    <tr>\n",
       "      <th>75%</th>\n",
       "      <td>3.465500e+04</td>\n",
       "      <td>2.457900e+04</td>\n",
       "      <td>2020-12-08 00:00:00</td>\n",
       "      <td>1.000000e+00</td>\n",
       "    </tr>\n",
       "    <tr>\n",
       "      <th>max</th>\n",
       "      <td>4.613700e+04</td>\n",
       "      <td>3.277500e+04</td>\n",
       "      <td>2021-01-31 00:00:00</td>\n",
       "      <td>1.000000e+02</td>\n",
       "    </tr>\n",
       "    <tr>\n",
       "      <th>std</th>\n",
       "      <td>1.331930e+04</td>\n",
       "      <td>9.451299e+03</td>\n",
       "      <td>NaN</td>\n",
       "      <td>1.479233e+00</td>\n",
       "    </tr>\n",
       "  </tbody>\n",
       "</table>\n",
       "</div>"
      ],
      "text/plain": [
       "        customer_id    product_id                  purchase_date      quantity\n",
       "count  1.071538e+06  1.071538e+06                        1071538  1.071538e+06\n",
       "mean   2.307968e+04  1.652196e+04  2020-10-05 06:54:07.242748672  1.399758e+00\n",
       "min    0.000000e+00  0.000000e+00            2020-06-01 00:00:00  1.000000e+00\n",
       "25%    1.152400e+04  8.350000e+03            2020-08-03 00:00:00  1.000000e+00\n",
       "50%    2.310300e+04  1.696000e+04            2020-10-07 00:00:00  1.000000e+00\n",
       "75%    3.465500e+04  2.457900e+04            2020-12-08 00:00:00  1.000000e+00\n",
       "max    4.613700e+04  3.277500e+04            2021-01-31 00:00:00  1.000000e+02\n",
       "std    1.331930e+04  9.451299e+03                            NaN  1.479233e+00"
      ]
     },
     "execution_count": 21,
     "metadata": {},
     "output_type": "execute_result"
    }
   ],
   "source": [
    "transactions.describe()"
   ]
  },
  {
   "cell_type": "code",
   "execution_count": 22,
   "metadata": {},
   "outputs": [
    {
     "data": {
      "text/plain": [
       "customer_id      0\n",
       "product_id       0\n",
       "purchase_date    0\n",
       "quantity         0\n",
       "dtype: int64"
      ]
     },
     "execution_count": 22,
     "metadata": {},
     "output_type": "execute_result"
    }
   ],
   "source": [
    "transactions.isna().sum()"
   ]
  },
  {
   "cell_type": "code",
   "execution_count": 23,
   "metadata": {},
   "outputs": [
    {
     "data": {
      "text/plain": [
       "customer_id               int64\n",
       "product_id                int64\n",
       "purchase_date    datetime64[ns]\n",
       "quantity                  int64\n",
       "dtype: object"
      ]
     },
     "execution_count": 23,
     "metadata": {},
     "output_type": "execute_result"
    }
   ],
   "source": [
    "transactions.dtypes"
   ]
  },
  {
   "cell_type": "code",
   "execution_count": 24,
   "metadata": {},
   "outputs": [],
   "source": [
    "# Sort by customer_id, product_id, and purchase_date\n",
    "transactions = transactions.sort_values(by=['customer_id', 'product_id', 'purchase_date'])"
   ]
  },
  {
   "cell_type": "code",
   "execution_count": 25,
   "metadata": {},
   "outputs": [
    {
     "data": {
      "text/html": [
       "<div>\n",
       "<style scoped>\n",
       "    .dataframe tbody tr th:only-of-type {\n",
       "        vertical-align: middle;\n",
       "    }\n",
       "\n",
       "    .dataframe tbody tr th {\n",
       "        vertical-align: top;\n",
       "    }\n",
       "\n",
       "    .dataframe thead th {\n",
       "        text-align: right;\n",
       "    }\n",
       "</style>\n",
       "<table border=\"1\" class=\"dataframe\">\n",
       "  <thead>\n",
       "    <tr style=\"text-align: right;\">\n",
       "      <th></th>\n",
       "      <th>customer_id</th>\n",
       "      <th>product_id</th>\n",
       "      <th>purchase_date</th>\n",
       "      <th>quantity</th>\n",
       "    </tr>\n",
       "  </thead>\n",
       "  <tbody>\n",
       "    <tr>\n",
       "      <th>390966</th>\n",
       "      <td>0</td>\n",
       "      <td>1505</td>\n",
       "      <td>2020-09-01</td>\n",
       "      <td>1</td>\n",
       "    </tr>\n",
       "    <tr>\n",
       "      <th>819667</th>\n",
       "      <td>0</td>\n",
       "      <td>6446</td>\n",
       "      <td>2020-12-11</td>\n",
       "      <td>1</td>\n",
       "    </tr>\n",
       "    <tr>\n",
       "      <th>978365</th>\n",
       "      <td>0</td>\n",
       "      <td>6446</td>\n",
       "      <td>2021-01-15</td>\n",
       "      <td>1</td>\n",
       "    </tr>\n",
       "    <tr>\n",
       "      <th>709719</th>\n",
       "      <td>0</td>\n",
       "      <td>9325</td>\n",
       "      <td>2020-11-20</td>\n",
       "      <td>1</td>\n",
       "    </tr>\n",
       "    <tr>\n",
       "      <th>268197</th>\n",
       "      <td>0</td>\n",
       "      <td>12468</td>\n",
       "      <td>2020-08-03</td>\n",
       "      <td>1</td>\n",
       "    </tr>\n",
       "  </tbody>\n",
       "</table>\n",
       "</div>"
      ],
      "text/plain": [
       "        customer_id  product_id purchase_date  quantity\n",
       "390966            0        1505    2020-09-01         1\n",
       "819667            0        6446    2020-12-11         1\n",
       "978365            0        6446    2021-01-15         1\n",
       "709719            0        9325    2020-11-20         1\n",
       "268197            0       12468    2020-08-03         1"
      ]
     },
     "execution_count": 25,
     "metadata": {},
     "output_type": "execute_result"
    }
   ],
   "source": [
    "transactions.head()"
   ]
  },
  {
   "cell_type": "code",
   "execution_count": 26,
   "metadata": {},
   "outputs": [
    {
     "data": {
      "text/html": [
       "<div>\n",
       "<style scoped>\n",
       "    .dataframe tbody tr th:only-of-type {\n",
       "        vertical-align: middle;\n",
       "    }\n",
       "\n",
       "    .dataframe tbody tr th {\n",
       "        vertical-align: top;\n",
       "    }\n",
       "\n",
       "    .dataframe thead th {\n",
       "        text-align: right;\n",
       "    }\n",
       "</style>\n",
       "<table border=\"1\" class=\"dataframe\">\n",
       "  <thead>\n",
       "    <tr style=\"text-align: right;\">\n",
       "      <th></th>\n",
       "      <th>customer_id</th>\n",
       "      <th>product_id</th>\n",
       "      <th>purchase_date</th>\n",
       "      <th>quantity</th>\n",
       "      <th>next_purchase_date</th>\n",
       "    </tr>\n",
       "  </thead>\n",
       "  <tbody>\n",
       "    <tr>\n",
       "      <th>390966</th>\n",
       "      <td>0</td>\n",
       "      <td>1505</td>\n",
       "      <td>2020-09-01</td>\n",
       "      <td>1</td>\n",
       "      <td>NaT</td>\n",
       "    </tr>\n",
       "    <tr>\n",
       "      <th>819667</th>\n",
       "      <td>0</td>\n",
       "      <td>6446</td>\n",
       "      <td>2020-12-11</td>\n",
       "      <td>1</td>\n",
       "      <td>2021-01-15</td>\n",
       "    </tr>\n",
       "    <tr>\n",
       "      <th>978365</th>\n",
       "      <td>0</td>\n",
       "      <td>6446</td>\n",
       "      <td>2021-01-15</td>\n",
       "      <td>1</td>\n",
       "      <td>NaT</td>\n",
       "    </tr>\n",
       "    <tr>\n",
       "      <th>709719</th>\n",
       "      <td>0</td>\n",
       "      <td>9325</td>\n",
       "      <td>2020-11-20</td>\n",
       "      <td>1</td>\n",
       "      <td>NaT</td>\n",
       "    </tr>\n",
       "    <tr>\n",
       "      <th>268197</th>\n",
       "      <td>0</td>\n",
       "      <td>12468</td>\n",
       "      <td>2020-08-03</td>\n",
       "      <td>1</td>\n",
       "      <td>NaT</td>\n",
       "    </tr>\n",
       "  </tbody>\n",
       "</table>\n",
       "</div>"
      ],
      "text/plain": [
       "        customer_id  product_id purchase_date  quantity next_purchase_date\n",
       "390966            0        1505    2020-09-01         1                NaT\n",
       "819667            0        6446    2020-12-11         1         2021-01-15\n",
       "978365            0        6446    2021-01-15         1                NaT\n",
       "709719            0        9325    2020-11-20         1                NaT\n",
       "268197            0       12468    2020-08-03         1                NaT"
      ]
     },
     "execution_count": 26,
     "metadata": {},
     "output_type": "execute_result"
    }
   ],
   "source": [
    "transactions['next_purchase_date'] = transactions.groupby(['customer_id', 'product_id'])['purchase_date'].shift(-1)\n",
    "transactions.head()"
   ]
  },
  {
   "cell_type": "code",
   "execution_count": null,
   "metadata": {},
   "outputs": [],
   "source": []
  },
  {
   "cell_type": "code",
   "execution_count": 27,
   "metadata": {},
   "outputs": [
    {
     "data": {
      "text/html": [
       "<div>\n",
       "<style scoped>\n",
       "    .dataframe tbody tr th:only-of-type {\n",
       "        vertical-align: middle;\n",
       "    }\n",
       "\n",
       "    .dataframe tbody tr th {\n",
       "        vertical-align: top;\n",
       "    }\n",
       "\n",
       "    .dataframe thead th {\n",
       "        text-align: right;\n",
       "    }\n",
       "</style>\n",
       "<table border=\"1\" class=\"dataframe\">\n",
       "  <thead>\n",
       "    <tr style=\"text-align: right;\">\n",
       "      <th></th>\n",
       "      <th>customer_id</th>\n",
       "      <th>product_id</th>\n",
       "      <th>purchase_date</th>\n",
       "      <th>quantity</th>\n",
       "      <th>next_purchase_date</th>\n",
       "      <th>re_purchased_week</th>\n",
       "    </tr>\n",
       "  </thead>\n",
       "  <tbody>\n",
       "    <tr>\n",
       "      <th>390966</th>\n",
       "      <td>0</td>\n",
       "      <td>1505</td>\n",
       "      <td>2020-09-01</td>\n",
       "      <td>1</td>\n",
       "      <td>NaT</td>\n",
       "      <td>0</td>\n",
       "    </tr>\n",
       "    <tr>\n",
       "      <th>819667</th>\n",
       "      <td>0</td>\n",
       "      <td>6446</td>\n",
       "      <td>2020-12-11</td>\n",
       "      <td>1</td>\n",
       "      <td>2021-01-15</td>\n",
       "      <td>6</td>\n",
       "    </tr>\n",
       "    <tr>\n",
       "      <th>978365</th>\n",
       "      <td>0</td>\n",
       "      <td>6446</td>\n",
       "      <td>2021-01-15</td>\n",
       "      <td>1</td>\n",
       "      <td>NaT</td>\n",
       "      <td>0</td>\n",
       "    </tr>\n",
       "    <tr>\n",
       "      <th>709719</th>\n",
       "      <td>0</td>\n",
       "      <td>9325</td>\n",
       "      <td>2020-11-20</td>\n",
       "      <td>1</td>\n",
       "      <td>NaT</td>\n",
       "      <td>0</td>\n",
       "    </tr>\n",
       "    <tr>\n",
       "      <th>268197</th>\n",
       "      <td>0</td>\n",
       "      <td>12468</td>\n",
       "      <td>2020-08-03</td>\n",
       "      <td>1</td>\n",
       "      <td>NaT</td>\n",
       "      <td>0</td>\n",
       "    </tr>\n",
       "  </tbody>\n",
       "</table>\n",
       "</div>"
      ],
      "text/plain": [
       "        customer_id  product_id purchase_date  quantity next_purchase_date  \\\n",
       "390966            0        1505    2020-09-01         1                NaT   \n",
       "819667            0        6446    2020-12-11         1         2021-01-15   \n",
       "978365            0        6446    2021-01-15         1                NaT   \n",
       "709719            0        9325    2020-11-20         1                NaT   \n",
       "268197            0       12468    2020-08-03         1                NaT   \n",
       "\n",
       "        re_purchased_week  \n",
       "390966                  0  \n",
       "819667                  6  \n",
       "978365                  0  \n",
       "709719                  0  \n",
       "268197                  0  "
      ]
     },
     "execution_count": 27,
     "metadata": {},
     "output_type": "execute_result"
    }
   ],
   "source": [
    "transactions['re_purchased_week'] = (1+(transactions['next_purchase_date'] - transactions['purchase_date']).dt.days / 7).fillna(0).astype(int)\n",
    "transactions.head()"
   ]
  },
  {
   "cell_type": "code",
   "execution_count": 28,
   "metadata": {},
   "outputs": [
    {
     "data": {
      "text/html": [
       "<div>\n",
       "<style scoped>\n",
       "    .dataframe tbody tr th:only-of-type {\n",
       "        vertical-align: middle;\n",
       "    }\n",
       "\n",
       "    .dataframe tbody tr th {\n",
       "        vertical-align: top;\n",
       "    }\n",
       "\n",
       "    .dataframe thead th {\n",
       "        text-align: right;\n",
       "    }\n",
       "</style>\n",
       "<table border=\"1\" class=\"dataframe\">\n",
       "  <thead>\n",
       "    <tr style=\"text-align: right;\">\n",
       "      <th></th>\n",
       "      <th>customer_id</th>\n",
       "      <th>product_id</th>\n",
       "      <th>quantity</th>\n",
       "      <th>re_purchased_week</th>\n",
       "    </tr>\n",
       "  </thead>\n",
       "  <tbody>\n",
       "    <tr>\n",
       "      <th>390966</th>\n",
       "      <td>0</td>\n",
       "      <td>1505</td>\n",
       "      <td>1</td>\n",
       "      <td>0</td>\n",
       "    </tr>\n",
       "    <tr>\n",
       "      <th>819667</th>\n",
       "      <td>0</td>\n",
       "      <td>6446</td>\n",
       "      <td>1</td>\n",
       "      <td>6</td>\n",
       "    </tr>\n",
       "    <tr>\n",
       "      <th>978365</th>\n",
       "      <td>0</td>\n",
       "      <td>6446</td>\n",
       "      <td>1</td>\n",
       "      <td>0</td>\n",
       "    </tr>\n",
       "    <tr>\n",
       "      <th>709719</th>\n",
       "      <td>0</td>\n",
       "      <td>9325</td>\n",
       "      <td>1</td>\n",
       "      <td>0</td>\n",
       "    </tr>\n",
       "    <tr>\n",
       "      <th>268197</th>\n",
       "      <td>0</td>\n",
       "      <td>12468</td>\n",
       "      <td>1</td>\n",
       "      <td>0</td>\n",
       "    </tr>\n",
       "  </tbody>\n",
       "</table>\n",
       "</div>"
      ],
      "text/plain": [
       "        customer_id  product_id  quantity  re_purchased_week\n",
       "390966            0        1505         1                  0\n",
       "819667            0        6446         1                  6\n",
       "978365            0        6446         1                  0\n",
       "709719            0        9325         1                  0\n",
       "268197            0       12468         1                  0"
      ]
     },
     "execution_count": 28,
     "metadata": {},
     "output_type": "execute_result"
    }
   ],
   "source": [
    "new_df = transactions.drop(columns=['purchase_date', 'next_purchase_date'])\n",
    "new_df.head()"
   ]
  },
  {
   "cell_type": "code",
   "execution_count": 29,
   "metadata": {},
   "outputs": [
    {
     "data": {
      "text/plain": [
       "array([ 0,  6, 19, 10,  4,  7,  3, 13, 18, 17,  9,  8, 11, 30, 27,  5, 12,\n",
       "       23, 29, 16, 21, 15, 22, 24, 20,  2, 32,  1, 26, 25, 14, 31, 28, 33,\n",
       "       35, 34])"
      ]
     },
     "execution_count": 29,
     "metadata": {},
     "output_type": "execute_result"
    }
   ],
   "source": [
    "new_df[new_df[\"quantity\"] == 1].re_purchased_week.unique()"
   ]
  },
  {
   "cell_type": "code",
   "execution_count": 30,
   "metadata": {},
   "outputs": [
    {
     "data": {
      "text/html": [
       "<div>\n",
       "<style scoped>\n",
       "    .dataframe tbody tr th:only-of-type {\n",
       "        vertical-align: middle;\n",
       "    }\n",
       "\n",
       "    .dataframe tbody tr th {\n",
       "        vertical-align: top;\n",
       "    }\n",
       "\n",
       "    .dataframe thead th {\n",
       "        text-align: right;\n",
       "    }\n",
       "</style>\n",
       "<table border=\"1\" class=\"dataframe\">\n",
       "  <thead>\n",
       "    <tr style=\"text-align: right;\">\n",
       "      <th></th>\n",
       "      <th>re_purchased_week</th>\n",
       "      <th>count</th>\n",
       "      <th>percentage</th>\n",
       "    </tr>\n",
       "  </thead>\n",
       "  <tbody>\n",
       "    <tr>\n",
       "      <th>0</th>\n",
       "      <td>0</td>\n",
       "      <td>896426</td>\n",
       "      <td>97.14</td>\n",
       "    </tr>\n",
       "    <tr>\n",
       "      <th>1</th>\n",
       "      <td>1</td>\n",
       "      <td>3519</td>\n",
       "      <td>0.38</td>\n",
       "    </tr>\n",
       "    <tr>\n",
       "      <th>2</th>\n",
       "      <td>2</td>\n",
       "      <td>4974</td>\n",
       "      <td>0.54</td>\n",
       "    </tr>\n",
       "    <tr>\n",
       "      <th>3</th>\n",
       "      <td>3</td>\n",
       "      <td>7641</td>\n",
       "      <td>0.83</td>\n",
       "    </tr>\n",
       "    <tr>\n",
       "      <th>4</th>\n",
       "      <td>4</td>\n",
       "      <td>10279</td>\n",
       "      <td>1.11</td>\n",
       "    </tr>\n",
       "  </tbody>\n",
       "</table>\n",
       "</div>"
      ],
      "text/plain": [
       "   re_purchased_week   count  percentage\n",
       "0                  0  896426       97.14\n",
       "1                  1    3519        0.38\n",
       "2                  2    4974        0.54\n",
       "3                  3    7641        0.83\n",
       "4                  4   10279        1.11"
      ]
     },
     "execution_count": 30,
     "metadata": {},
     "output_type": "execute_result"
    }
   ],
   "source": [
    "# Counting the occurrences of each re_purchased_week value\n",
    "counts = new_df['re_purchased_week'].value_counts()\n",
    "\n",
    "# Creating a new DataFrame to include weeks from 0 to 4\n",
    "re_purchased_df = pd.DataFrame({'re_purchased_week': range(5), 'count': 0})\n",
    "re_purchased_df.set_index('re_purchased_week', inplace=True)\n",
    "\n",
    "# Updating the counts for weeks that exist in the data\n",
    "for week, count in counts.items():\n",
    "    if week in re_purchased_df.index:\n",
    "        re_purchased_df.at[week, 'count'] = count\n",
    "\n",
    "# Calculating the percentages\n",
    "total_counts = re_purchased_df['count'].sum()\n",
    "re_purchased_df['percentage'] = (re_purchased_df['count'] / total_counts * 100).round(2)\n",
    "\n",
    "# Resetting index to make it more readable\n",
    "final_df = re_purchased_df.reset_index()\n",
    "final_df\n"
   ]
  },
  {
   "cell_type": "code",
   "execution_count": 31,
   "metadata": {},
   "outputs": [
    {
     "data": {
      "text/html": [
       "<div>\n",
       "<style scoped>\n",
       "    .dataframe tbody tr th:only-of-type {\n",
       "        vertical-align: middle;\n",
       "    }\n",
       "\n",
       "    .dataframe tbody tr th {\n",
       "        vertical-align: top;\n",
       "    }\n",
       "\n",
       "    .dataframe thead th {\n",
       "        text-align: right;\n",
       "    }\n",
       "</style>\n",
       "<table border=\"1\" class=\"dataframe\">\n",
       "  <thead>\n",
       "    <tr style=\"text-align: right;\">\n",
       "      <th></th>\n",
       "      <th>re_purchased_week</th>\n",
       "      <th>count</th>\n",
       "      <th>percentage</th>\n",
       "    </tr>\n",
       "  </thead>\n",
       "  <tbody>\n",
       "    <tr>\n",
       "      <th>count</th>\n",
       "      <td>5.000000</td>\n",
       "      <td>5.000000</td>\n",
       "      <td>5.000000</td>\n",
       "    </tr>\n",
       "    <tr>\n",
       "      <th>mean</th>\n",
       "      <td>2.000000</td>\n",
       "      <td>184567.800000</td>\n",
       "      <td>20.000000</td>\n",
       "    </tr>\n",
       "    <tr>\n",
       "      <th>std</th>\n",
       "      <td>1.581139</td>\n",
       "      <td>397949.235535</td>\n",
       "      <td>43.123476</td>\n",
       "    </tr>\n",
       "    <tr>\n",
       "      <th>min</th>\n",
       "      <td>0.000000</td>\n",
       "      <td>3519.000000</td>\n",
       "      <td>0.380000</td>\n",
       "    </tr>\n",
       "    <tr>\n",
       "      <th>25%</th>\n",
       "      <td>1.000000</td>\n",
       "      <td>4974.000000</td>\n",
       "      <td>0.540000</td>\n",
       "    </tr>\n",
       "    <tr>\n",
       "      <th>50%</th>\n",
       "      <td>2.000000</td>\n",
       "      <td>7641.000000</td>\n",
       "      <td>0.830000</td>\n",
       "    </tr>\n",
       "    <tr>\n",
       "      <th>75%</th>\n",
       "      <td>3.000000</td>\n",
       "      <td>10279.000000</td>\n",
       "      <td>1.110000</td>\n",
       "    </tr>\n",
       "    <tr>\n",
       "      <th>max</th>\n",
       "      <td>4.000000</td>\n",
       "      <td>896426.000000</td>\n",
       "      <td>97.140000</td>\n",
       "    </tr>\n",
       "  </tbody>\n",
       "</table>\n",
       "</div>"
      ],
      "text/plain": [
       "       re_purchased_week          count  percentage\n",
       "count           5.000000       5.000000    5.000000\n",
       "mean            2.000000  184567.800000   20.000000\n",
       "std             1.581139  397949.235535   43.123476\n",
       "min             0.000000    3519.000000    0.380000\n",
       "25%             1.000000    4974.000000    0.540000\n",
       "50%             2.000000    7641.000000    0.830000\n",
       "75%             3.000000   10279.000000    1.110000\n",
       "max             4.000000  896426.000000   97.140000"
      ]
     },
     "execution_count": 31,
     "metadata": {},
     "output_type": "execute_result"
    }
   ],
   "source": [
    "final_df.describe()"
   ]
  },
  {
   "cell_type": "markdown",
   "metadata": {},
   "source": [
    "#### PCA"
   ]
  },
  {
   "cell_type": "code",
   "execution_count": 29,
   "metadata": {},
   "outputs": [],
   "source": [
    "import pandas as pd\n",
    "from sklearn.cluster import KMeans\n",
    "from sklearn.preprocessing import StandardScaler\n",
    "from sklearn.metrics import silhouette_score\n",
    "\n",
    "\n",
    "# I am not sure if these are the \"most optimal\" measures. We need to do experiment on that. (GBD)\n",
    "customer_features = new_df.groupby('customer_id').agg({\n",
    "    'product_id': 'nunique',\n",
    "    'quantity': 'mean',         # Average of the purchased quantity\n",
    "    're_purchased_week': 'mean' # Average repurchase interval\n",
    "}).reset_index()\n",
    "\n",
    "# Normalizing the features\n",
    "scaler = StandardScaler()\n",
    "normalized_features = scaler.fit_transform(customer_features.iloc[:, 1:])\n",
    "\n",
    "# Determining optimal k using Silhouette Score\n",
    "sil_scores = []\n",
    "for k in range(2, 10):\n",
    "    kmeans = KMeans(n_clusters=k, random_state=42)\n",
    "    labels = kmeans.fit_predict(normalized_features)\n",
    "    sil_scores.append(silhouette_score(normalized_features, labels))\n",
    "\n",
    "optimal_k = sil_scores.index(max(sil_scores)) + 2\n",
    "\n",
    "# Final clustering with optimal k value\n",
    "kmeans = KMeans(n_clusters=optimal_k, random_state=42)\n",
    "customer_features['Cluster'] = kmeans.fit_predict(normalized_features)\n",
    "\n",
    "# Saving results\n",
    "customer_features.to_csv('clustered_customers.csv', index=False)\n"
   ]
  },
  {
   "cell_type": "code",
   "execution_count": 30,
   "metadata": {},
   "outputs": [
    {
     "data": {
      "text/plain": [
       "customer_id          46138\n",
       "product_id             100\n",
       "quantity              2218\n",
       "re_purchased_week     4747\n",
       "Cluster                  5\n",
       "dtype: int64"
      ]
     },
     "execution_count": 30,
     "metadata": {},
     "output_type": "execute_result"
    }
   ],
   "source": [
    "customer_features.nunique()"
   ]
  },
  {
   "cell_type": "code",
   "execution_count": 31,
   "metadata": {},
   "outputs": [
    {
     "data": {
      "text/plain": [
       "np.float64(0.3875933074095938)"
      ]
     },
     "execution_count": 31,
     "metadata": {},
     "output_type": "execute_result"
    }
   ],
   "source": [
    "max(sil_scores)"
   ]
  },
  {
   "cell_type": "code",
   "execution_count": 32,
   "metadata": {},
   "outputs": [
    {
     "data": {
      "image/png": "[encoded data removed]",
      "text/plain": [
       "<Figure size 640x480 with 2 Axes>"
      ]
     },
     "metadata": {},
     "output_type": "display_data"
    }
   ],
   "source": [
    "from sklearn.decomposition import PCA\n",
    "\n",
    "pca = PCA(n_components=2)\n",
    "reduced_features = pca.fit_transform(normalized_features)\n",
    "\n",
    "# Visalizing the clusters\n",
    "plt.scatter(reduced_features[:, 0], reduced_features[:, 1], c=customer_features['Cluster'], cmap='viridis', s=50)\n",
    "plt.title('PCA Visualization of Clusters')\n",
    "plt.xlabel('Principal Component 1')\n",
    "plt.ylabel('Principal Component 2')\n",
    "plt.colorbar(label='Cluster')\n",
    "plt.show()\n"
   ]
  },
  {
   "cell_type": "code",
   "execution_count": null,
   "metadata": {},
   "outputs": [],
   "source": []
  }
 ],
 "metadata": {
  "kernelspec": {
   "display_name": "Python 3",
   "language": "python",
   "name": "python3"
  },
  "language_info": {
   "codemirror_mode": {
    "name": "ipython",
    "version": 3
   },
   "file_extension": ".py",
   "mimetype": "text/x-python",
   "name": "python",
   "nbconvert_exporter": "python",
   "pygments_lexer": "ipython3",
   "version": "3.9.20"
  }
 },
 "nbformat": 4,
 "nbformat_minor": 2
}
